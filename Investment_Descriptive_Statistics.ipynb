{
  "cells": [
    {
      "cell_type": "markdown",
      "metadata": {
        "id": "view-in-github",
        "colab_type": "text"
      },
      "source": [
        "<a href=\"https://colab.research.google.com/github/raghuvamsiyaram/Probability-and-Statistics/blob/main/Investment_Descriptive_Statistics.ipynb\" target=\"_parent\"><img src=\"https://colab.research.google.com/assets/colab-badge.svg\" alt=\"Open In Colab\"/></a>"
      ]
    },
    {
      "cell_type": "markdown",
      "source": [
        "# <center><u>Introduction</u> </center>"
      ],
      "metadata": {
        "id": "RziaEIU8UpcQ"
      },
      "id": "RziaEIU8UpcQ"
    },
    {
      "cell_type": "markdown",
      "source": [
        "This Jupyter notebook is part of your learning experience in the study of variability\n",
        "\n",
        "You will work with a simple data set that contains the investment returns of different agencies\n",
        "\n",
        "## In this exercise, you will perform the following tasks:\n",
        "\n",
        "1 - Load and study the data\n",
        "\n",
        "2 - View the distributions of the various features in the data set and also calculate various measures of dispersion\n",
        "\n",
        "3 - Create a data frame to compare the variability in the investment returns of the different agencies"
      ],
      "metadata": {
        "id": "o_1V5kRtUx77"
      },
      "id": "o_1V5kRtUx77"
    },
    {
      "cell_type": "code",
      "source": [
        "###########################################################################"
      ],
      "metadata": {
        "id": "v-cxJaaaVQ9f"
      },
      "id": "v-cxJaaaVQ9f",
      "execution_count": null,
      "outputs": []
    },
    {
      "cell_type": "markdown",
      "source": [
        "# <center><u>Task 1</u> </center>"
      ],
      "metadata": {
        "id": "ST9SuJKAXO2D"
      },
      "id": "ST9SuJKAXO2D"
    },
    {
      "cell_type": "markdown",
      "source": [
        "Load and study the data\n",
        "\n",
        "Load the data and study its features such as:\n",
        "\n",
        "1. The years for which investment returns have been recorded\n",
        "\n",
        "2. The number of agencies whose data is available"
      ],
      "metadata": {
        "id": "LhFi6SdSVBbF"
      },
      "id": "LhFi6SdSVBbF"
    },
    {
      "cell_type": "markdown",
      "source": [
        "Import the libraries that will be used in this notebook"
      ],
      "metadata": {
        "id": "YKyQTl18VYZ0"
      },
      "id": "YKyQTl18VYZ0"
    },
    {
      "cell_type": "code",
      "execution_count": null,
      "metadata": {
        "id": "txvHwJJiBiU3"
      },
      "outputs": [],
      "source": [
        "# Load \"numpy\" and \"pandas\" for manipulating numbers and data frames\n",
        "# Load \"matplotlib.pyplot\" and \"seaborn\" for data visualisation\n",
        "########## CODE HERE #########\n",
        "import pandas as pd\n",
        "import numpy as np\n",
        "import matplotlib.pyplot as plt\n",
        "import seaborn as sns"
      ],
      "id": "txvHwJJiBiU3"
    },
    {
      "cell_type": "code",
      "source": [
        "from google.colab import drive"
      ],
      "metadata": {
        "id": "WkiDbPbQdImG"
      },
      "id": "WkiDbPbQdImG",
      "execution_count": null,
      "outputs": []
    },
    {
      "cell_type": "code",
      "source": [
        "drive.mount('/content/drive')"
      ],
      "metadata": {
        "colab": {
          "base_uri": "https://localhost:8080/"
        },
        "id": "HRo3N5XxdMkO",
        "outputId": "b176522a-f25a-4f52-c574-c9835bc9167c"
      },
      "id": "HRo3N5XxdMkO",
      "execution_count": null,
      "outputs": [
        {
          "output_type": "stream",
          "name": "stdout",
          "text": [
            "Mounted at /content/drive\n"
          ]
        }
      ]
    },
    {
      "cell_type": "markdown",
      "source": [
        "Load the csv file as pandas dataframe. "
      ],
      "metadata": {
        "id": "atHDOxKEVZ0H"
      },
      "id": "atHDOxKEVZ0H"
    },
    {
      "cell_type": "code",
      "execution_count": null,
      "metadata": {
        "id": "VoAKyqLTBiU4"
      },
      "outputs": [],
      "source": [
        "# Read in the \"Investment_Returns.csv\" file as a Pandas Data Frame\n",
        "# Note: Make sure the code and the data are in the same folder or specify the appropriate path\n",
        "########## CODE HERE #########\n",
        "df = pd.read_csv('/content/drive/MyDrive/CloudyML/Maths and Stats/Investment_Returns.csv', index_col=0)\n"
      ],
      "id": "VoAKyqLTBiU4"
    },
    {
      "cell_type": "code",
      "source": [],
      "metadata": {
        "id": "L16g1uaRdkjG"
      },
      "id": "L16g1uaRdkjG",
      "execution_count": null,
      "outputs": []
    },
    {
      "cell_type": "markdown",
      "source": [
        "Reference:\n",
        "\n",
        "https://pandas.pydata.org/pandas-docs/stable/reference/api/pandas.DataFrame.head.html"
      ],
      "metadata": {
        "id": "pO5MNXj4VsAY"
      },
      "id": "pO5MNXj4VsAY"
    },
    {
      "cell_type": "code",
      "source": [
        "from IPython.display import YouTubeVideo\n",
        "YouTubeVideo('ke540R9hVY8',width=700, height=400)"
      ],
      "metadata": {
        "colab": {
          "base_uri": "https://localhost:8080/",
          "height": 422
        },
        "id": "4qJB3yd3VwV0",
        "outputId": "44c417c0-dce9-4624-b486-2849c0a345ec"
      },
      "id": "4qJB3yd3VwV0",
      "execution_count": null,
      "outputs": [
        {
          "output_type": "execute_result",
          "data": {
            "text/html": [
              "\n",
              "        <iframe\n",
              "            width=\"700\"\n",
              "            height=\"400\"\n",
              "            src=\"https://www.youtube.com/embed/ke540R9hVY8\"\n",
              "            frameborder=\"0\"\n",
              "            allowfullscreen\n",
              "        ></iframe>\n",
              "        "
            ],
            "text/plain": [
              "<IPython.lib.display.YouTubeVideo at 0x7f7e09f4f150>"
            ],
            "image/jpeg": "[encoded data removed]"
          },
          "metadata": {},
          "execution_count": 4
        }
      ]
    },
    {
      "cell_type": "code",
      "execution_count": null,
      "metadata": {
        "id": "hTuRsJOCBiU5",
        "outputId": "c57c1e53-9852-425d-ad85-83e1cb1642da",
        "colab": {
          "base_uri": "https://localhost:8080/",
          "height": 237
        }
      },
      "outputs": [
        {
          "output_type": "execute_result",
          "data": {
            "text/plain": [
              "      George and Wallace  Imperial Traders  High Rise\n",
              "Year                                                 \n",
              "2001                12.6              -5.6        8.5\n",
              "2002                 7.4               8.7        6.3\n",
              "2003               -12.6              13.0       -3.2\n",
              "2004                -5.8              -6.4       -3.9\n",
              "2005                 9.2              10.7        6.0"
            ],
            "text/html": [
              "\n",
              "  <div id=\"df-062744a9-368d-4812-b7d5-ae54d439e960\">\n",
              "    <div class=\"colab-df-container\">\n",
              "      <div>\n",
              "<style scoped>\n",
              "    .dataframe tbody tr th:only-of-type {\n",
              "        vertical-align: middle;\n",
              "    }\n",
              "\n",
              "    .dataframe tbody tr th {\n",
              "        vertical-align: top;\n",
              "    }\n",
              "\n",
              "    .dataframe thead th {\n",
              "        text-align: right;\n",
              "    }\n",
              "</style>\n",
              "<table border=\"1\" class=\"dataframe\">\n",
              "  <thead>\n",
              "    <tr style=\"text-align: right;\">\n",
              "      <th></th>\n",
              "      <th>George and Wallace</th>\n",
              "      <th>Imperial Traders</th>\n",
              "      <th>High Rise</th>\n",
              "    </tr>\n",
              "    <tr>\n",
              "      <th>Year</th>\n",
              "      <th></th>\n",
              "      <th></th>\n",
              "      <th></th>\n",
              "    </tr>\n",
              "  </thead>\n",
              "  <tbody>\n",
              "    <tr>\n",
              "      <th>2001</th>\n",
              "      <td>12.6</td>\n",
              "      <td>-5.6</td>\n",
              "      <td>8.5</td>\n",
              "    </tr>\n",
              "    <tr>\n",
              "      <th>2002</th>\n",
              "      <td>7.4</td>\n",
              "      <td>8.7</td>\n",
              "      <td>6.3</td>\n",
              "    </tr>\n",
              "    <tr>\n",
              "      <th>2003</th>\n",
              "      <td>-12.6</td>\n",
              "      <td>13.0</td>\n",
              "      <td>-3.2</td>\n",
              "    </tr>\n",
              "    <tr>\n",
              "      <th>2004</th>\n",
              "      <td>-5.8</td>\n",
              "      <td>-6.4</td>\n",
              "      <td>-3.9</td>\n",
              "    </tr>\n",
              "    <tr>\n",
              "      <th>2005</th>\n",
              "      <td>9.2</td>\n",
              "      <td>10.7</td>\n",
              "      <td>6.0</td>\n",
              "    </tr>\n",
              "  </tbody>\n",
              "</table>\n",
              "</div>\n",
              "      <button class=\"colab-df-convert\" onclick=\"convertToInteractive('df-062744a9-368d-4812-b7d5-ae54d439e960')\"\n",
              "              title=\"Convert this dataframe to an interactive table.\"\n",
              "              style=\"display:none;\">\n",
              "        \n",
              "  <svg xmlns=\"http://www.w3.org/2000/svg\" height=\"24px\"viewBox=\"0 0 24 24\"\n",
              "       width=\"24px\">\n",
              "    <path d=\"M0 0h24v24H0V0z\" fill=\"none\"/>\n",
              "    <path d=\"M18.56 5.44l.94 2.06.94-2.06 2.06-.94-2.06-.94-.94-2.06-.94 2.06-2.06.94zm-11 1L8.5 8.5l.94-2.06 2.06-.94-2.06-.94L8.5 2.5l-.94 2.06-2.06.94zm10 10l.94 2.06.94-2.06 2.06-.94-2.06-.94-.94-2.06-.94 2.06-2.06.94z\"/><path d=\"M17.41 7.96l-1.37-1.37c-.4-.4-.92-.59-1.43-.59-.52 0-1.04.2-1.43.59L10.3 9.45l-7.72 7.72c-.78.78-.78 2.05 0 2.83L4 21.41c.39.39.9.59 1.41.59.51 0 1.02-.2 1.41-.59l7.78-7.78 2.81-2.81c.8-.78.8-2.07 0-2.86zM5.41 20L4 18.59l7.72-7.72 1.47 1.35L5.41 20z\"/>\n",
              "  </svg>\n",
              "      </button>\n",
              "      \n",
              "  <style>\n",
              "    .colab-df-container {\n",
              "      display:flex;\n",
              "      flex-wrap:wrap;\n",
              "      gap: 12px;\n",
              "    }\n",
              "\n",
              "    .colab-df-convert {\n",
              "      background-color: #E8F0FE;\n",
              "      border: none;\n",
              "      border-radius: 50%;\n",
              "      cursor: pointer;\n",
              "      display: none;\n",
              "      fill: #1967D2;\n",
              "      height: 32px;\n",
              "      padding: 0 0 0 0;\n",
              "      width: 32px;\n",
              "    }\n",
              "\n",
              "    .colab-df-convert:hover {\n",
              "      background-color: #E2EBFA;\n",
              "      box-shadow: 0px 1px 2px rgba(60, 64, 67, 0.3), 0px 1px 3px 1px rgba(60, 64, 67, 0.15);\n",
              "      fill: #174EA6;\n",
              "    }\n",
              "\n",
              "    [theme=dark] .colab-df-convert {\n",
              "      background-color: #3B4455;\n",
              "      fill: #D2E3FC;\n",
              "    }\n",
              "\n",
              "    [theme=dark] .colab-df-convert:hover {\n",
              "      background-color: #434B5C;\n",
              "      box-shadow: 0px 1px 3px 1px rgba(0, 0, 0, 0.15);\n",
              "      filter: drop-shadow(0px 1px 2px rgba(0, 0, 0, 0.3));\n",
              "      fill: #FFFFFF;\n",
              "    }\n",
              "  </style>\n",
              "\n",
              "      <script>\n",
              "        const buttonEl =\n",
              "          document.querySelector('#df-062744a9-368d-4812-b7d5-ae54d439e960 button.colab-df-convert');\n",
              "        buttonEl.style.display =\n",
              "          google.colab.kernel.accessAllowed ? 'block' : 'none';\n",
              "\n",
              "        async function convertToInteractive(key) {\n",
              "          const element = document.querySelector('#df-062744a9-368d-4812-b7d5-ae54d439e960');\n",
              "          const dataTable =\n",
              "            await google.colab.kernel.invokeFunction('convertToInteractive',\n",
              "                                                     [key], {});\n",
              "          if (!dataTable) return;\n",
              "\n",
              "          const docLinkHtml = 'Like what you see? Visit the ' +\n",
              "            '<a target=\"_blank\" href=https://colab.research.google.com/notebooks/data_table.ipynb>data table notebook</a>'\n",
              "            + ' to learn more about interactive tables.';\n",
              "          element.innerHTML = '';\n",
              "          dataTable['output_type'] = 'display_data';\n",
              "          await google.colab.output.renderOutput(dataTable, element);\n",
              "          const docLink = document.createElement('div');\n",
              "          docLink.innerHTML = docLinkHtml;\n",
              "          element.appendChild(docLink);\n",
              "        }\n",
              "      </script>\n",
              "    </div>\n",
              "  </div>\n",
              "  "
            ]
          },
          "metadata": {},
          "execution_count": 5
        }
      ],
      "source": [
        "# Take a brief look at the data using \".head()\"\n",
        "########## CODE HERE #########\n",
        "df.head()"
      ],
      "id": "hTuRsJOCBiU5"
    },
    {
      "cell_type": "code",
      "execution_count": null,
      "metadata": {
        "id": "eDoyKlFUBiU7",
        "outputId": "832505b4-db80-44e6-d123-6d2eb11c12e5",
        "colab": {
          "base_uri": "https://localhost:8080/"
        }
      },
      "outputs": [
        {
          "output_type": "stream",
          "name": "stdout",
          "text": [
            "The \"Investment_Returns.csv\" data is a completely fabricated data set for use only on the upGrad platform.\n",
            "\n",
            "Any resemblance to entities past, present or future is merely a coincidence.\n",
            "\n",
            "Feature Description:\n",
            "Year = year for which a particular investment return was calculated\n",
            "George and Wallace = percent return in investment via the company \"George and Wallace\"\n",
            "Imperial Traders = percent return in investment via the company \"Imperial Traders\"\n",
            "High Rise = percent return in investment via the company \"High Rise\"\n",
            "\n"
          ]
        }
      ],
      "source": [
        "# Study the description of the data\n",
        "# Note: Make sure the code and the data description are in the same folder or specify the appropriate path\n",
        "with open('Investment_Returns_Feature_Description.txt', 'r') as f:\n",
        "    print(f.read())"
      ],
      "id": "eDoyKlFUBiU7"
    },
    {
      "cell_type": "markdown",
      "source": [
        "Reference:-https://pandas.pydata.org/pandas-docs/stable/reference/api/pandas.DataFrame.shape.html\n",
        "<p style='text-align: right;'></p>"
      ],
      "metadata": {
        "id": "ZvZjZutOV-eb"
      },
      "id": "ZvZjZutOV-eb"
    },
    {
      "cell_type": "code",
      "execution_count": null,
      "metadata": {
        "id": "Z8F2MLTaBiU8",
        "outputId": "682f3786-d4c9-4407-f0ec-f542b37f7501",
        "colab": {
          "base_uri": "https://localhost:8080/"
        }
      },
      "outputs": [
        {
          "output_type": "execute_result",
          "data": {
            "text/plain": [
              "(20, 3)"
            ]
          },
          "metadata": {},
          "execution_count": 6
        }
      ],
      "source": [
        "# Get the dimensions of the data frame using \".shape\"\n",
        "########## CODE HERE #########\n",
        "df.shape"
      ],
      "id": "Z8F2MLTaBiU8"
    },
    {
      "cell_type": "markdown",
      "source": [
        "Reference:-https://pandas.pydata.org/pandas-docs/stable/reference/api/pandas.DataFrame.index.html\n"
      ],
      "metadata": {
        "id": "Ww0VbzK8WRro"
      },
      "id": "Ww0VbzK8WRro"
    },
    {
      "cell_type": "code",
      "execution_count": null,
      "metadata": {
        "id": "s5OxXsMlBiU8",
        "outputId": "81f1f066-c63e-4490-e480-c08988ad6661",
        "colab": {
          "base_uri": "https://localhost:8080/"
        }
      },
      "outputs": [
        {
          "output_type": "execute_result",
          "data": {
            "text/plain": [
              "Int64Index([2001, 2002, 2003, 2004, 2005, 2006, 2007, 2008, 2009, 2010, 2011,\n",
              "            2012, 2013, 2014, 2015, 2016, 2017, 2018, 2019, 2020],\n",
              "           dtype='int64', name='Year')"
            ]
          },
          "metadata": {},
          "execution_count": 7
        }
      ],
      "source": [
        "# Get the row names of the data frame using \".index\"\n",
        "########## CODE HERE #########\n",
        "df.index"
      ],
      "id": "s5OxXsMlBiU8"
    },
    {
      "cell_type": "markdown",
      "source": [
        "Reference:-https://pandas.pydata.org/pandas-docs/stable/reference/api/pandas.DataFrame.columns.html"
      ],
      "metadata": {
        "id": "prQZhWJoWX3l"
      },
      "id": "prQZhWJoWX3l"
    },
    {
      "cell_type": "code",
      "execution_count": null,
      "metadata": {
        "id": "Sz3mTSWXBiU9",
        "outputId": "584bcc17-c410-4d6a-b49c-456c3c65926a",
        "colab": {
          "base_uri": "https://localhost:8080/"
        }
      },
      "outputs": [
        {
          "output_type": "execute_result",
          "data": {
            "text/plain": [
              "Index(['George and Wallace', 'Imperial Traders', 'High Rise'], dtype='object')"
            ]
          },
          "metadata": {},
          "execution_count": 8
        }
      ],
      "source": [
        "# Get the column names of the data frame using \".columns\"\n",
        "########## CODE HERE #########\n",
        "df.columns"
      ],
      "id": "Sz3mTSWXBiU9"
    },
    {
      "cell_type": "markdown",
      "source": [
        "Reference:-https://www.w3schools.com/python/pandas/ref_df_info.asp"
      ],
      "metadata": {
        "id": "wGjnI7XBWd-L"
      },
      "id": "wGjnI7XBWd-L"
    },
    {
      "cell_type": "code",
      "execution_count": null,
      "metadata": {
        "id": "-nyXD00uBiU9",
        "outputId": "eae2b01c-d80c-4626-a5df-7a5921e7ab78",
        "colab": {
          "base_uri": "https://localhost:8080/"
        }
      },
      "outputs": [
        {
          "output_type": "stream",
          "name": "stdout",
          "text": [
            "<class 'pandas.core.frame.DataFrame'>\n",
            "Int64Index: 20 entries, 2001 to 2020\n",
            "Data columns (total 3 columns):\n",
            " #   Column              Non-Null Count  Dtype  \n",
            "---  ------              --------------  -----  \n",
            " 0   George and Wallace  20 non-null     float64\n",
            " 1   Imperial Traders    20 non-null     float64\n",
            " 2   High Rise           20 non-null     float64\n",
            "dtypes: float64(3)\n",
            "memory usage: 640.0 bytes\n"
          ]
        }
      ],
      "source": [
        "# Look at basic information about the data frame using \".info()\"\n",
        "########## CODE HERE #########\n",
        "df.info()"
      ],
      "id": "-nyXD00uBiU9"
    },
    {
      "cell_type": "markdown",
      "source": [
        "# **Observations from Task 1:**\n",
        "\n",
        "There are 20 rows and 3 columns in the data\n",
        "Each row contains the investment return percentages of three different agencies for a certain year\n",
        "\n",
        "The features in the data set are:\n",
        "1. The investment return percentage from the agency \"George and Wallace\" for the years 2001 to 2020\n",
        "\n",
        "2. The investment return percentage from the agency \"Imperial Traders\" for the years 2001 to 2020\n",
        "\n",
        "3. The investment return percentage from the agency \"High Rise\" for the years 2001 to 2020"
      ],
      "metadata": {
        "id": "ZSxnYh5eWnLz"
      },
      "id": "ZSxnYh5eWnLz"
    },
    {
      "cell_type": "code",
      "execution_count": null,
      "metadata": {
        "id": "9XgadQSpBiU-"
      },
      "outputs": [],
      "source": [
        "###########################################################################"
      ],
      "id": "9XgadQSpBiU-"
    },
    {
      "cell_type": "markdown",
      "source": [
        "Let's move to the next obstacle!!"
      ],
      "metadata": {
        "id": "6Y45p0o2W3AQ"
      },
      "id": "6Y45p0o2W3AQ"
    },
    {
      "cell_type": "markdown",
      "source": [
        "# <center><u>Task 2</u> </center>"
      ],
      "metadata": {
        "id": "4Cx9qEU2XWNH"
      },
      "id": "4Cx9qEU2XWNH"
    },
    {
      "cell_type": "markdown",
      "source": [
        "View the distributions of the various features in the data set and also calculate various measures of dispersion. We will now calculate relevant statistical measures of central tendency and dispersion for each of the agencies. We will also view their investment returns distributions to get a sense of the spread of the values"
      ],
      "metadata": {
        "id": "7B8IjtRyW9-C"
      },
      "id": "7B8IjtRyW9-C"
    },
    {
      "cell_type": "markdown",
      "source": [
        "Reference:-https://pandas.pydata.org/pandas-docs/stable/reference/api/pandas.DataFrame.mean.html\n",
        "\n",
        "https://pandas.pydata.org/pandas-docs/stable/reference/api/pandas.DataFrame.median.html"
      ],
      "metadata": {
        "id": "hB7JLqueX4sb"
      },
      "id": "hB7JLqueX4sb"
    },
    {
      "cell_type": "code",
      "execution_count": null,
      "metadata": {
        "id": "7MCETP0kBiU_",
        "outputId": "49b9a4a9-e4c8-43c8-c444-9cbca8bdb975",
        "colab": {
          "base_uri": "https://localhost:8080/"
        }
      },
      "outputs": [
        {
          "output_type": "execute_result",
          "data": {
            "text/plain": [
              "4.0"
            ]
          },
          "metadata": {},
          "execution_count": 10
        }
      ],
      "source": [
        "# Calculate the mean of the \"George and Wallace\" feature using \".mean()\"\n",
        "########## CODE HERE #########\n",
        "df['George and Wallace'].mean()"
      ],
      "id": "7MCETP0kBiU_"
    },
    {
      "cell_type": "code",
      "execution_count": null,
      "metadata": {
        "id": "X75klFbUBiU_",
        "outputId": "87a15012-b871-4f14-a6de-d1d78887580e",
        "colab": {
          "base_uri": "https://localhost:8080/"
        }
      },
      "outputs": [
        {
          "output_type": "execute_result",
          "data": {
            "text/plain": [
              "5.45"
            ]
          },
          "metadata": {},
          "execution_count": 11
        }
      ],
      "source": [
        "# Calculate the median of the \"George and Wallace\" feature using \".median()\"\n",
        "########## CODE HERE #########\n",
        "df['George and Wallace'].median()"
      ],
      "id": "X75klFbUBiU_"
    },
    {
      "cell_type": "markdown",
      "source": [
        "Reference:-\n",
        "\n",
        "https://seaborn.pydata.org/generated/seaborn.histplot.html\n",
        "\n",
        "https://www.geeksforgeeks.org/plotting-histogram-in-python-using-matplotlib/"
      ],
      "metadata": {
        "id": "j_zLccAFYVxG"
      },
      "id": "j_zLccAFYVxG"
    },
    {
      "cell_type": "code",
      "source": [
        "from IPython.display import YouTubeVideo\n",
        "YouTubeVideo('Bjz00ygERxY',width=700, height=400)"
      ],
      "metadata": {
        "colab": {
          "base_uri": "https://localhost:8080/",
          "height": 422
        },
        "id": "-80j3lgcYP8O",
        "outputId": "e9157f7b-abff-4c68-bf36-a76b985b7047"
      },
      "id": "-80j3lgcYP8O",
      "execution_count": null,
      "outputs": [
        {
          "output_type": "execute_result",
          "data": {
            "text/html": [
              "\n",
              "        <iframe\n",
              "            width=\"700\"\n",
              "            height=\"400\"\n",
              "            src=\"https://www.youtube.com/embed/Bjz00ygERxY\"\n",
              "            frameborder=\"0\"\n",
              "            allowfullscreen\n",
              "        ></iframe>\n",
              "        "
            ],
            "text/plain": [
              "<IPython.lib.display.YouTubeVideo at 0x7f7e09a94e10>"
            ],
            "image/jpeg": "[encoded data removed]"
          },
          "metadata": {},
          "execution_count": 14
        }
      ]
    },
    {
      "cell_type": "code",
      "execution_count": null,
      "metadata": {
        "id": "Amp1DHINBiVA",
        "outputId": "87e1c239-79b2-4ce9-cf55-5355e93a69e6",
        "colab": {
          "base_uri": "https://localhost:8080/",
          "height": 258
        }
      },
      "outputs": [
        {
          "output_type": "execute_result",
          "data": {
            "text/plain": [
              "<matplotlib.legend.Legend at 0x7fbad7c12ed0>"
            ]
          },
          "metadata": {},
          "execution_count": 37
        },
        {
          "output_type": "display_data",
          "data": {
            "text/plain": [
              "<Figure size 432x216 with 1 Axes>"
            ],
            "image/png": "[encoded data removed]"
          },
          "metadata": {
            "needs_background": "light"
          }
        }
      ],
      "source": [
        "# Create a histogram of the \"George and Wallace\" feature and also show the mean and the median\n",
        "########## CODE HERE #########\n",
        "plt.figure(figsize=(6,3))\n",
        "sns.histplot(data = df, x='George and Wallace')\n",
        "plt.vlines(x=df['George and Wallace'].mean(), ymin=0, ymax=8, colors='red', label = 'Mean')\n",
        "plt.vlines(x=df['George and Wallace'].median(),ymin=0, ymax=8, colors='green', label = 'Median')\n",
        "plt.title('Histogram of Investment Returns for George and Wallace')\n",
        "plt.xlabel('Percent Return in Investment')\n",
        "plt.ylabel('Count')\n",
        "plt.legend()"
      ],
      "id": "Amp1DHINBiVA"
    },
    {
      "cell_type": "markdown",
      "source": [
        "Reference:-https://www.cuemath.com/data/range-in-statistics/"
      ],
      "metadata": {
        "id": "k8lu-lqLYqJw"
      },
      "id": "k8lu-lqLYqJw"
    },
    {
      "cell_type": "markdown",
      "source": [
        "The range is the difference between the highest value and the lowest value of the data.  It helps in knowing the spread of the data"
      ],
      "metadata": {
        "id": "xo5nNIIZY3IL"
      },
      "id": "xo5nNIIZY3IL"
    },
    {
      "cell_type": "code",
      "execution_count": null,
      "metadata": {
        "id": "i8WlkBS5BiVA",
        "outputId": "a8b4ceaa-f9f6-4565-8720-f2a3e2a12354",
        "colab": {
          "base_uri": "https://localhost:8080/"
        }
      },
      "outputs": [
        {
          "output_type": "execute_result",
          "data": {
            "text/plain": [
              "35.5"
            ]
          },
          "metadata": {},
          "execution_count": 13
        }
      ],
      "source": [
        "# Calculate the range of the \"George and Wallace\" feature using \".min()\" and \".max\"\n",
        "# Note: The range is equal to the difference between the maximum and minimum value in a data series\n",
        "########## CODE HERE #########\n",
        "range = df['George and Wallace'].max() - df['George and Wallace'].min()\n",
        "range"
      ],
      "id": "i8WlkBS5BiVA"
    },
    {
      "cell_type": "markdown",
      "source": [
        "Reference:-https://pandas.pydata.org/pandas-docs/stable/reference/api/pandas.DataFrame.mad.html\n",
        "\n",
        "https://www.vedantu.com/formula/mean-deviation-formula"
      ],
      "metadata": {
        "id": "dNeMzq-8ZRdH"
      },
      "id": "dNeMzq-8ZRdH"
    },
    {
      "cell_type": "markdown",
      "source": [
        "Mean Deviation: In statistics, deviation means the difference between the observed value and the expected value of a variable. In simple words, the deviation is the distance from the centre point. The centre point can be median, mean, or mode. Similarly, the mean deviation or the mean absolute deviation is used to compute how far the values fall from the middle of the data set.\n",
        "\n",
        "The continuous data series, discrete data series, and individual data series are used to calculate the mean deviation. "
      ],
      "metadata": {
        "id": "Zd2ysM4fZh6p"
      },
      "id": "Zd2ysM4fZh6p"
    },
    {
      "cell_type": "code",
      "execution_count": null,
      "metadata": {
        "id": "ZTfhjuXEBiVA",
        "outputId": "ab1979c4-4d56-4591-c891-30e243bc5632",
        "colab": {
          "base_uri": "https://localhost:8080/"
        }
      },
      "outputs": [
        {
          "output_type": "execute_result",
          "data": {
            "text/plain": [
              "7.58"
            ]
          },
          "metadata": {},
          "execution_count": 14
        }
      ],
      "source": [
        "# Calculate the mean deviation about the mean for the \"George and Wallace\" feature using \".mad()\"\n",
        "########## CODE HERE #########\n",
        "df['George and Wallace'].mad()"
      ],
      "id": "ZTfhjuXEBiVA"
    },
    {
      "cell_type": "markdown",
      "source": [
        "Reference:-https://pandas.pydata.org/pandas-docs/stable/reference/api/pandas.DataFrame.var.html\n",
        "\n",
        "https://byjus.com/maths/variance/\n",
        "\n",
        "https://www.youtube.com/watch?v=E4HAYd0QnRc&t=2s"
      ],
      "metadata": {
        "id": "nl27CSd4Z38j"
      },
      "id": "nl27CSd4Z38j"
    },
    {
      "cell_type": "markdown",
      "source": [
        "In probability theory and statistics, variance is the expectation of the squared deviation of a random variable from its mean, and it informally measures how far a set of (random) numbers are spread out from their mean."
      ],
      "metadata": {
        "id": "h3YNUntSaBTx"
      },
      "id": "h3YNUntSaBTx"
    },
    {
      "cell_type": "code",
      "source": [
        "YouTubeVideo('E4HAYd0QnRc',width=700, height=400)"
      ],
      "metadata": {
        "colab": {
          "base_uri": "https://localhost:8080/",
          "height": 422
        },
        "id": "5SbwPGTIa8iw",
        "outputId": "19a0ebeb-a726-444f-a942-394dd832a248"
      },
      "id": "5SbwPGTIa8iw",
      "execution_count": null,
      "outputs": [
        {
          "output_type": "execute_result",
          "data": {
            "text/html": [
              "\n",
              "        <iframe\n",
              "            width=\"700\"\n",
              "            height=\"400\"\n",
              "            src=\"https://www.youtube.com/embed/E4HAYd0QnRc\"\n",
              "            frameborder=\"0\"\n",
              "            allowfullscreen\n",
              "        ></iframe>\n",
              "        "
            ],
            "text/plain": [
              "<IPython.lib.display.YouTubeVideo at 0x7f7e09a7b9d0>"
            ],
            "image/jpeg": "[encoded data removed]"
          },
          "metadata": {},
          "execution_count": 49
        }
      ]
    },
    {
      "cell_type": "code",
      "execution_count": null,
      "metadata": {
        "id": "R2kodZ7ZBiVB",
        "outputId": "b517996a-646a-4f82-89cb-f0680b67c2a5",
        "colab": {
          "base_uri": "https://localhost:8080/"
        }
      },
      "outputs": [
        {
          "output_type": "execute_result",
          "data": {
            "text/plain": [
              "90.11157894736843"
            ]
          },
          "metadata": {},
          "execution_count": 15
        }
      ],
      "source": [
        "# Calculate the variance for the \"George and Wallace\" feature using \".var()\"\n",
        "########## CODE HERE #########\n",
        "df['George and Wallace'].var()"
      ],
      "id": "R2kodZ7ZBiVB"
    },
    {
      "cell_type": "markdown",
      "source": [
        "Reference:-https://pandas.pydata.org/pandas-docs/stable/reference/api/pandas.DataFrame.std.html\n",
        "\n",
        "https://byjus.com/maths/standard-deviation/#:~:text=%20How%20do%20you%20calculate%20the%20standard%20deviation%3F,mean%20to%20get%20the%20standard%20deviation.%20More%20"
      ],
      "metadata": {
        "id": "qu7kQ-w7aUa1"
      },
      "id": "qu7kQ-w7aUa1"
    },
    {
      "cell_type": "code",
      "execution_count": null,
      "metadata": {
        "id": "7aHq1LmdBiVB",
        "outputId": "42e9b9df-4ab8-4161-c3c2-3c0242c5e303",
        "colab": {
          "base_uri": "https://localhost:8080/"
        }
      },
      "outputs": [
        {
          "output_type": "execute_result",
          "data": {
            "text/plain": [
              "9.492711885829488"
            ]
          },
          "metadata": {},
          "execution_count": 16
        }
      ],
      "source": [
        "# Calculate the standard deviation for the \"George and Wallace\" feature using \".std()\"\n",
        "########## CODE HERE #########\n",
        "df['George and Wallace'].std()"
      ],
      "id": "7aHq1LmdBiVB"
    },
    {
      "cell_type": "code",
      "execution_count": null,
      "metadata": {
        "id": "dB9MzAVMBiVB",
        "outputId": "1e59361e-987d-4ff1-f353-ff821e4635b4",
        "colab": {
          "base_uri": "https://localhost:8080/"
        }
      },
      "outputs": [
        {
          "output_type": "execute_result",
          "data": {
            "text/plain": [
              "4.0"
            ]
          },
          "metadata": {},
          "execution_count": 17
        }
      ],
      "source": [
        "# Calculate the mean of the \"Imperial Traders\" feature using \".mean()\"\n",
        "########## CODE HERE #########\n",
        "df['Imperial Traders'].mean()"
      ],
      "id": "dB9MzAVMBiVB"
    },
    {
      "cell_type": "code",
      "execution_count": null,
      "metadata": {
        "id": "Ry8PObDzBiVC",
        "outputId": "1c21f527-573e-4706-c879-60bbb66f2dd0",
        "colab": {
          "base_uri": "https://localhost:8080/"
        }
      },
      "outputs": [
        {
          "output_type": "execute_result",
          "data": {
            "text/plain": [
              "7.65"
            ]
          },
          "metadata": {},
          "execution_count": 18
        }
      ],
      "source": [
        "# Calculate the median of the \"Imperial Traders\" feature using \".median()\"\n",
        "########## CODE HERE #########\n",
        "df['Imperial Traders'].median()"
      ],
      "id": "Ry8PObDzBiVC"
    },
    {
      "cell_type": "code",
      "execution_count": null,
      "metadata": {
        "id": "cu27Q_yXBiVC",
        "outputId": "38b38a86-8d86-4cab-f7de-f8efd8e349a3",
        "colab": {
          "base_uri": "https://localhost:8080/",
          "height": 312
        }
      },
      "outputs": [
        {
          "output_type": "execute_result",
          "data": {
            "text/plain": [
              "Text(0, 0.5, 'Count')"
            ]
          },
          "metadata": {},
          "execution_count": 23
        },
        {
          "output_type": "display_data",
          "data": {
            "text/plain": [
              "<Figure size 432x288 with 1 Axes>"
            ],
            "image/png": "[encoded data removed]"
          },
          "metadata": {
            "needs_background": "light"
          }
        }
      ],
      "source": [
        "# Create a histogram of the \"Imperial Traders\" feature and also show the mean and the median\n",
        "########## CODE HERE #########\n",
        "plt.figure(figsize=(6,4))\n",
        "sns.histplot(data=df, x='Imperial Traders')\n",
        "plt.vlines(x=df['Imperial Traders'].mean(), ymin=0, ymax=10, colors='black')\n",
        "plt.vlines(x=df['Imperial Traders'].median(), ymin=0, ymax=10, colors='red')\n",
        "plt.title('Histogram of Investment Returns for Imperial Traders')\n",
        "plt.xlabel('Percent Return in Investment')\n",
        "plt.ylabel('Count')"
      ],
      "id": "cu27Q_yXBiVC"
    },
    {
      "cell_type": "code",
      "execution_count": null,
      "metadata": {
        "id": "3Glx67rHBiVC",
        "outputId": "5096b5fa-1b5b-490d-d1f0-bd3bf72ce798",
        "colab": {
          "base_uri": "https://localhost:8080/"
        }
      },
      "outputs": [
        {
          "output_type": "execute_result",
          "data": {
            "text/plain": [
              "25.299999999999997"
            ]
          },
          "metadata": {},
          "execution_count": 25
        }
      ],
      "source": [
        "# Calculate the range of the \"Imperial Traders\" feature using \".min()\" and \".max\"\n",
        "# Note: The range is equal to the difference between the maximum and minimum value in a data series\n",
        "########## CODE HERE #########\n",
        "range2 = df['Imperial Traders'].max() - df['Imperial Traders'].min()\n",
        "range2"
      ],
      "id": "3Glx67rHBiVC"
    },
    {
      "cell_type": "code",
      "execution_count": null,
      "metadata": {
        "id": "JoTOcO8ABiVC",
        "outputId": "843f72d4-a331-4fdd-8135-c9c9f8dd1a27",
        "colab": {
          "base_uri": "https://localhost:8080/"
        }
      },
      "outputs": [
        {
          "output_type": "execute_result",
          "data": {
            "text/plain": [
              "7.2299999999999995"
            ]
          },
          "metadata": {},
          "execution_count": 26
        }
      ],
      "source": [
        "# Calculate the mean deviation about the mean for the \"Imperial Traders\" feature using \".mad()\"\n",
        "########## CODE HERE #########\n",
        "df['Imperial Traders'].mad()"
      ],
      "id": "JoTOcO8ABiVC"
    },
    {
      "cell_type": "code",
      "execution_count": null,
      "metadata": {
        "id": "0VvtdZy7BiVC",
        "outputId": "4f976b14-5eeb-4149-ff03-d9ab888e234d",
        "colab": {
          "base_uri": "https://localhost:8080/"
        }
      },
      "outputs": [
        {
          "output_type": "execute_result",
          "data": {
            "text/plain": [
              "63.66526315789473"
            ]
          },
          "metadata": {},
          "execution_count": 27
        }
      ],
      "source": [
        "# Calculate the variance for the \"Imperial Traders\" feature using \".var()\"\n",
        "########## CODE HERE #########\n",
        "df['Imperial Traders'].var()"
      ],
      "id": "0VvtdZy7BiVC"
    },
    {
      "cell_type": "code",
      "execution_count": null,
      "metadata": {
        "id": "5JJ2X7K2BiVD",
        "outputId": "47dcef42-747c-4bc3-dc47-8ebe71de52d4",
        "colab": {
          "base_uri": "https://localhost:8080/"
        }
      },
      "outputs": [
        {
          "output_type": "execute_result",
          "data": {
            "text/plain": [
              "7.9790515199423755"
            ]
          },
          "metadata": {},
          "execution_count": 28
        }
      ],
      "source": [
        "# Calculate the standard deviation for the \"Imperial Traders\" feature using \".std()\"\n",
        "########## CODE HERE #########\n",
        "df['Imperial Traders'].std()"
      ],
      "id": "5JJ2X7K2BiVD"
    },
    {
      "cell_type": "code",
      "execution_count": null,
      "metadata": {
        "id": "zudaSn2QBiVD",
        "outputId": "2091adaf-f860-4448-f86f-c41d0c58d778",
        "colab": {
          "base_uri": "https://localhost:8080/"
        }
      },
      "outputs": [
        {
          "output_type": "execute_result",
          "data": {
            "text/plain": [
              "3.999999999999999"
            ]
          },
          "metadata": {},
          "execution_count": 29
        }
      ],
      "source": [
        "# Calculate the mean of the \"High Rise\" feature using \".mean()\"\n",
        "########## CODE HERE #########\n",
        "df['High Rise'].mean()"
      ],
      "id": "zudaSn2QBiVD"
    },
    {
      "cell_type": "code",
      "execution_count": null,
      "metadata": {
        "id": "Xy8sK9xDBiVD",
        "outputId": "a4ceb2ea-16d5-483b-e415-c0a7d3ee3492",
        "colab": {
          "base_uri": "https://localhost:8080/"
        }
      },
      "outputs": [
        {
          "output_type": "execute_result",
          "data": {
            "text/plain": [
              "6.55"
            ]
          },
          "metadata": {},
          "execution_count": 30
        }
      ],
      "source": [
        "# Calculate the median of the \"High Rise\" feature using \".median()\"\n",
        "########## CODE HERE #########\n",
        "df['High Rise'].median()"
      ],
      "id": "Xy8sK9xDBiVD"
    },
    {
      "cell_type": "code",
      "execution_count": null,
      "metadata": {
        "id": "rJTPOxqQBiVD",
        "outputId": "f83a5d67-af97-40e4-daa2-57972e19354d",
        "colab": {
          "base_uri": "https://localhost:8080/",
          "height": 312
        }
      },
      "outputs": [
        {
          "output_type": "execute_result",
          "data": {
            "text/plain": [
              "Text(0, 0.5, 'Count')"
            ]
          },
          "metadata": {},
          "execution_count": 31
        },
        {
          "output_type": "display_data",
          "data": {
            "text/plain": [
              "<Figure size 432x288 with 1 Axes>"
            ],
            "image/png": "[encoded data removed]"
          },
          "metadata": {
            "needs_background": "light"
          }
        }
      ],
      "source": [
        "# Create a histogram of the \"High Rise\" feature and also show the mean and the median\n",
        "########## CODE HERE #########\n",
        "plt.figure(figsize=(6,4))\n",
        "sns.histplot(data=df, x='High Rise')\n",
        "plt.vlines(x=df['High Rise'].mean(), ymin=0, ymax=10, colors='black')\n",
        "plt.vlines(x=df['High Rise'].median(), ymin=0, ymax=10, colors='red')\n",
        "plt.title('Histogram of Investment Returns for High Rise')\n",
        "plt.xlabel('Percent Return in Investment')\n",
        "plt.ylabel('Count')"
      ],
      "id": "rJTPOxqQBiVD"
    },
    {
      "cell_type": "code",
      "execution_count": null,
      "metadata": {
        "id": "mxeYkjQWBiVD",
        "outputId": "f094a531-fd7a-49f3-b8e8-28d0c43104ce",
        "colab": {
          "base_uri": "https://localhost:8080/"
        }
      },
      "outputs": [
        {
          "output_type": "execute_result",
          "data": {
            "text/plain": [
              "14.100000000000001"
            ]
          },
          "metadata": {},
          "execution_count": 32
        }
      ],
      "source": [
        "# Calculate the range of the \"High Rise\" feature using \".min()\" and \".max\"\n",
        "# Note: The range is equal to the difference between the maximum and minimum value in a data series\n",
        "########## CODE HERE #########\n",
        "range3 = df['High Rise'].max() - df['High Rise'].min()\n",
        "range3"
      ],
      "id": "mxeYkjQWBiVD"
    },
    {
      "cell_type": "code",
      "execution_count": null,
      "metadata": {
        "id": "CmX6VqOEBiVE",
        "outputId": "145f6d8b-0279-45a9-f6d8-19c5b2372ed2",
        "colab": {
          "base_uri": "https://localhost:8080/"
        }
      },
      "outputs": [
        {
          "output_type": "execute_result",
          "data": {
            "text/plain": [
              "4.64"
            ]
          },
          "metadata": {},
          "execution_count": 33
        }
      ],
      "source": [
        "# Calculate the mean deviation about the mean for the \"High Rise\" feature using \".mad()\"\n",
        "########## CODE HERE #########\n",
        "df['High Rise'].mad()"
      ],
      "id": "CmX6VqOEBiVE"
    },
    {
      "cell_type": "code",
      "execution_count": null,
      "metadata": {
        "id": "hVH_0DqTBiVE",
        "outputId": "0cbb7d75-72f5-4062-f859-1f014496eed8",
        "colab": {
          "base_uri": "https://localhost:8080/"
        }
      },
      "outputs": [
        {
          "output_type": "execute_result",
          "data": {
            "text/plain": [
              "28.071578947368415"
            ]
          },
          "metadata": {},
          "execution_count": 34
        }
      ],
      "source": [
        "# Calculate the variance for the \"High Rise\" feature using \".var()\"\n",
        "########## CODE HERE #########\n",
        "df['High Rise'].var()"
      ],
      "id": "hVH_0DqTBiVE"
    },
    {
      "cell_type": "code",
      "execution_count": null,
      "metadata": {
        "id": "w75-X4dmBiVE",
        "outputId": "28795afc-cf42-4c99-efc5-753dd9ed2f8b",
        "colab": {
          "base_uri": "https://localhost:8080/"
        }
      },
      "outputs": [
        {
          "output_type": "execute_result",
          "data": {
            "text/plain": [
              "5.298261879840257"
            ]
          },
          "metadata": {},
          "execution_count": 35
        }
      ],
      "source": [
        "# Calculate the standard deviation for the \"High Rise\" feature using \".std()\"\n",
        "########## CODE HERE #########\n",
        "df['High Rise'].std()"
      ],
      "id": "w75-X4dmBiVE"
    },
    {
      "cell_type": "markdown",
      "source": [
        "Reference:-https://matplotlib.org/stable/api/_as_gen/matplotlib.pyplot.subplots.html\n",
        "\n",
        "https://www.youtube.com/watch?v=z0wsrMKJbrQ&t=521s"
      ],
      "metadata": {
        "id": "wWKqOFv4btWf"
      },
      "id": "wWKqOFv4btWf"
    },
    {
      "cell_type": "code",
      "source": [
        "YouTubeVideo('z0wsrMKJbrQ',width=700, height=400)"
      ],
      "metadata": {
        "colab": {
          "base_uri": "https://localhost:8080/",
          "height": 422
        },
        "id": "Jm70VJewb43H",
        "outputId": "da8e0e53-8a48-40dc-87c1-16e7b4c0329a"
      },
      "id": "Jm70VJewb43H",
      "execution_count": null,
      "outputs": [
        {
          "output_type": "execute_result",
          "data": {
            "text/html": [
              "\n",
              "        <iframe\n",
              "            width=\"700\"\n",
              "            height=\"400\"\n",
              "            src=\"https://www.youtube.com/embed/z0wsrMKJbrQ\"\n",
              "            frameborder=\"0\"\n",
              "            allowfullscreen\n",
              "        ></iframe>\n",
              "        "
            ],
            "text/plain": [
              "<IPython.lib.display.YouTubeVideo at 0x7f7e0a68c150>"
            ],
            "image/jpeg": "[encoded data removed]"
          },
          "metadata": {},
          "execution_count": 50
        }
      ]
    },
    {
      "cell_type": "code",
      "execution_count": null,
      "metadata": {
        "id": "uHjD0a0jBiVE",
        "outputId": "1065afcf-6b8e-4f65-e65e-9fb05a114cc8",
        "colab": {
          "base_uri": "https://localhost:8080/",
          "height": 297
        }
      },
      "outputs": [
        {
          "output_type": "display_data",
          "data": {
            "image/png": "[encoded data removed]",
            "text/plain": [
              "<Figure size 864x288 with 3 Axes>"
            ]
          },
          "metadata": {
            "needs_background": "light"
          }
        }
      ],
      "source": [
        "# Create a figure with all the relevant plots\n",
        "########## CODE HERE #########\n"
      ],
      "id": "uHjD0a0jBiVE"
    },
    {
      "cell_type": "markdown",
      "source": [
        "# Observations from Task 2:\n",
        "\n",
        "The mean investment return percentage of all three agencies is **4 %**\n",
        "\n",
        "The median investment return percentages for the three agencies are as follows:\n",
        "\n",
        "* George and Wallace = 5.45 %\n",
        "\n",
        "* Imperial Traders = 7.65 %\n",
        "\n",
        "* High Rise = 6.55 %\n",
        "\n",
        "We can use many different measures of dispersion or variability to get a sense of how stable a certain investment is\n",
        "\n",
        "The standard deviations for the three agencies are as follows:\n",
        "\n",
        "* George and Wallace = 9.49 %\n",
        "\n",
        "* Imperial Traders = 7.98 %\n",
        "\n",
        "* High Rise = 5.3 %\n",
        "\n",
        "Since the central tendencies of the three different agencies are similar, we can use variability as a measure of stability"
      ],
      "metadata": {
        "id": "RUDwRDURcRax"
      },
      "id": "RUDwRDURcRax"
    },
    {
      "cell_type": "code",
      "execution_count": null,
      "metadata": {
        "id": "kTIsUn_CBiVF"
      },
      "outputs": [],
      "source": [
        "###########################################################################"
      ],
      "id": "kTIsUn_CBiVF"
    },
    {
      "cell_type": "markdown",
      "source": [
        "# <center><u>Task 3</u> </center>"
      ],
      "metadata": {
        "id": "1NaeTjI3z7xX"
      },
      "id": "1NaeTjI3z7xX"
    },
    {
      "cell_type": "markdown",
      "source": [
        "Create a data frame to compare the variability in the investment returns of the different agencies. We will now compile all the relevant statistical measures for the three agencies into one data frame. We will then assess which agency to invest in based on returns and stability"
      ],
      "metadata": {
        "id": "yvWdTYpq0Gfb"
      },
      "id": "yvWdTYpq0Gfb"
    },
    {
      "cell_type": "markdown",
      "source": [
        "Reference:-https://pandas.pydata.org/pandas-docs/stable/reference/api/pandas.Series.html"
      ],
      "metadata": {
        "id": "L4JsTdRt0eYq"
      },
      "id": "L4JsTdRt0eYq"
    },
    {
      "cell_type": "code",
      "execution_count": null,
      "metadata": {
        "id": "ftGePyF5BiVG"
      },
      "outputs": [],
      "source": [
        "# Create a data frame to compare the mean, median and variations for the three companies and store it as \"variations\"\n",
        "# Note: Create three different temporary Pandas Series to store the details for the three different agencies\n",
        "# Note: The \"index\" parameter for these series can be set to \"['Mean', 'Median', 'Range', 'MAD', 'Variance', 'SD']\"\n",
        "# Note: The \"data\" parameter of the three series needs to be a list of the relevant values\n",
        "# Note: The same index needs to be used for the \"index\" parameter of the final data frame \"variations\"\n",
        "# Note: The \"data\" parameter of the data frame \"variations\" needs to be passed in as a dictionary\n",
        "########## CODE HERE #########\n"
      ],
      "id": "ftGePyF5BiVG"
    },
    {
      "cell_type": "code",
      "execution_count": null,
      "metadata": {
        "id": "M-t1LgEQBiVH",
        "outputId": "5b50ea99-c4c8-471e-d065-d781d575db58",
        "colab": {
          "base_uri": "https://localhost:8080/",
          "height": 238
        }
      },
      "outputs": [
        {
          "output_type": "execute_result",
          "data": {
            "text/html": [
              "\n",
              "  <div id=\"df-d98b47f9-381a-4f50-a7c8-972ad63c1958\">\n",
              "    <div class=\"colab-df-container\">\n",
              "      <div>\n",
              "<style scoped>\n",
              "    .dataframe tbody tr th:only-of-type {\n",
              "        vertical-align: middle;\n",
              "    }\n",
              "\n",
              "    .dataframe tbody tr th {\n",
              "        vertical-align: top;\n",
              "    }\n",
              "\n",
              "    .dataframe thead th {\n",
              "        text-align: right;\n",
              "    }\n",
              "</style>\n",
              "<table border=\"1\" class=\"dataframe\">\n",
              "  <thead>\n",
              "    <tr style=\"text-align: right;\">\n",
              "      <th></th>\n",
              "      <th>George and Wallace</th>\n",
              "      <th>Imperial Traders</th>\n",
              "      <th>High Rise</th>\n",
              "    </tr>\n",
              "  </thead>\n",
              "  <tbody>\n",
              "    <tr>\n",
              "      <th>Mean</th>\n",
              "      <td>4.000000</td>\n",
              "      <td>4.000000</td>\n",
              "      <td>4.000000</td>\n",
              "    </tr>\n",
              "    <tr>\n",
              "      <th>Median</th>\n",
              "      <td>5.450000</td>\n",
              "      <td>7.650000</td>\n",
              "      <td>6.550000</td>\n",
              "    </tr>\n",
              "    <tr>\n",
              "      <th>Range</th>\n",
              "      <td>35.500000</td>\n",
              "      <td>25.300000</td>\n",
              "      <td>14.100000</td>\n",
              "    </tr>\n",
              "    <tr>\n",
              "      <th>MAD</th>\n",
              "      <td>7.580000</td>\n",
              "      <td>7.230000</td>\n",
              "      <td>4.640000</td>\n",
              "    </tr>\n",
              "    <tr>\n",
              "      <th>Variance</th>\n",
              "      <td>90.111579</td>\n",
              "      <td>63.665263</td>\n",
              "      <td>28.071579</td>\n",
              "    </tr>\n",
              "    <tr>\n",
              "      <th>SD</th>\n",
              "      <td>9.492712</td>\n",
              "      <td>7.979052</td>\n",
              "      <td>5.298262</td>\n",
              "    </tr>\n",
              "  </tbody>\n",
              "</table>\n",
              "</div>\n",
              "      <button class=\"colab-df-convert\" onclick=\"convertToInteractive('df-d98b47f9-381a-4f50-a7c8-972ad63c1958')\"\n",
              "              title=\"Convert this dataframe to an interactive table.\"\n",
              "              style=\"display:none;\">\n",
              "        \n",
              "  <svg xmlns=\"http://www.w3.org/2000/svg\" height=\"24px\"viewBox=\"0 0 24 24\"\n",
              "       width=\"24px\">\n",
              "    <path d=\"M0 0h24v24H0V0z\" fill=\"none\"/>\n",
              "    <path d=\"M18.56 5.44l.94 2.06.94-2.06 2.06-.94-2.06-.94-.94-2.06-.94 2.06-2.06.94zm-11 1L8.5 8.5l.94-2.06 2.06-.94-2.06-.94L8.5 2.5l-.94 2.06-2.06.94zm10 10l.94 2.06.94-2.06 2.06-.94-2.06-.94-.94-2.06-.94 2.06-2.06.94z\"/><path d=\"M17.41 7.96l-1.37-1.37c-.4-.4-.92-.59-1.43-.59-.52 0-1.04.2-1.43.59L10.3 9.45l-7.72 7.72c-.78.78-.78 2.05 0 2.83L4 21.41c.39.39.9.59 1.41.59.51 0 1.02-.2 1.41-.59l7.78-7.78 2.81-2.81c.8-.78.8-2.07 0-2.86zM5.41 20L4 18.59l7.72-7.72 1.47 1.35L5.41 20z\"/>\n",
              "  </svg>\n",
              "      </button>\n",
              "      \n",
              "  <style>\n",
              "    .colab-df-container {\n",
              "      display:flex;\n",
              "      flex-wrap:wrap;\n",
              "      gap: 12px;\n",
              "    }\n",
              "\n",
              "    .colab-df-convert {\n",
              "      background-color: #E8F0FE;\n",
              "      border: none;\n",
              "      border-radius: 50%;\n",
              "      cursor: pointer;\n",
              "      display: none;\n",
              "      fill: #1967D2;\n",
              "      height: 32px;\n",
              "      padding: 0 0 0 0;\n",
              "      width: 32px;\n",
              "    }\n",
              "\n",
              "    .colab-df-convert:hover {\n",
              "      background-color: #E2EBFA;\n",
              "      box-shadow: 0px 1px 2px rgba(60, 64, 67, 0.3), 0px 1px 3px 1px rgba(60, 64, 67, 0.15);\n",
              "      fill: #174EA6;\n",
              "    }\n",
              "\n",
              "    [theme=dark] .colab-df-convert {\n",
              "      background-color: #3B4455;\n",
              "      fill: #D2E3FC;\n",
              "    }\n",
              "\n",
              "    [theme=dark] .colab-df-convert:hover {\n",
              "      background-color: #434B5C;\n",
              "      box-shadow: 0px 1px 3px 1px rgba(0, 0, 0, 0.15);\n",
              "      filter: drop-shadow(0px 1px 2px rgba(0, 0, 0, 0.3));\n",
              "      fill: #FFFFFF;\n",
              "    }\n",
              "  </style>\n",
              "\n",
              "      <script>\n",
              "        const buttonEl =\n",
              "          document.querySelector('#df-d98b47f9-381a-4f50-a7c8-972ad63c1958 button.colab-df-convert');\n",
              "        buttonEl.style.display =\n",
              "          google.colab.kernel.accessAllowed ? 'block' : 'none';\n",
              "\n",
              "        async function convertToInteractive(key) {\n",
              "          const element = document.querySelector('#df-d98b47f9-381a-4f50-a7c8-972ad63c1958');\n",
              "          const dataTable =\n",
              "            await google.colab.kernel.invokeFunction('convertToInteractive',\n",
              "                                                     [key], {});\n",
              "          if (!dataTable) return;\n",
              "\n",
              "          const docLinkHtml = 'Like what you see? Visit the ' +\n",
              "            '<a target=\"_blank\" href=https://colab.research.google.com/notebooks/data_table.ipynb>data table notebook</a>'\n",
              "            + ' to learn more about interactive tables.';\n",
              "          element.innerHTML = '';\n",
              "          dataTable['output_type'] = 'display_data';\n",
              "          await google.colab.output.renderOutput(dataTable, element);\n",
              "          const docLink = document.createElement('div');\n",
              "          docLink.innerHTML = docLinkHtml;\n",
              "          element.appendChild(docLink);\n",
              "        }\n",
              "      </script>\n",
              "    </div>\n",
              "  </div>\n",
              "  "
            ],
            "text/plain": [
              "          George and Wallace  Imperial Traders  High Rise\n",
              "Mean                4.000000          4.000000   4.000000\n",
              "Median              5.450000          7.650000   6.550000\n",
              "Range              35.500000         25.300000  14.100000\n",
              "MAD                 7.580000          7.230000   4.640000\n",
              "Variance           90.111579         63.665263  28.071579\n",
              "SD                  9.492712          7.979052   5.298262"
            ]
          },
          "metadata": {},
          "execution_count": 39
        }
      ],
      "source": [
        "# View the \"variations\" data frame\n",
        "########## CODE HERE #########\n"
      ],
      "id": "M-t1LgEQBiVH"
    },
    {
      "cell_type": "markdown",
      "source": [
        "# **Observations from Task3**:\n",
        "\n",
        "The mean investment returns for the three agencies are equal to 4 %. The median investment return percentage for \"George and Wallace\" is the lowest at 5.45 %. The median investment return percentage for \"Imperial Traders\" is the highest at 7.65 %\n",
        "\n",
        "The lowest variability in investment returns is shown by \"High Rise\" at 5.3 % standard deviation. The highest variablitiy in investment returns is shown by \"George and Wallace\" at 7.98 % standard deviation\n",
        "\n",
        "Since \"George and Wallace\" has the least median investment return percentage and the highest variability, it can be rejected. The agency \"Imperial Traders\" offers a slightly higher median percentage with a higher variability than \"High Rise\". The difference in the median percentages of \"Imperial Traders\" and \"High Rise\" is about 1 %. The difference in their standard deviation values is about 2.5 %.\n",
        "\n",
        "As an investor, stability is quite important for longer periods of investment\n",
        "Keeping this in mind, we could recommend investing in the agency \"High Rise\""
      ],
      "metadata": {
        "id": "49Y6G2AT0rlM"
      },
      "id": "49Y6G2AT0rlM"
    },
    {
      "cell_type": "code",
      "execution_count": null,
      "metadata": {
        "id": "seNpSHOtBiVH"
      },
      "outputs": [],
      "source": [
        "###########################################################################"
      ],
      "id": "seNpSHOtBiVH"
    },
    {
      "cell_type": "markdown",
      "source": [
        "# <center><u>Conclusions</u> </center>"
      ],
      "metadata": {
        "id": "9xg0JkL114j5"
      },
      "id": "9xg0JkL114j5"
    },
    {
      "cell_type": "markdown",
      "source": [
        "From the given data, we can use simple visualisations to get a sense of how data are distributed.\n",
        "\n",
        "We can use central tendency measures such as the mean and the median to get a sense of the representative value for a group.\n",
        "\n",
        "We can use various measures of variability such as range, mean absolute deviation and standard deviation.\n",
        "\n",
        "These measures help us get a sense of how variable or how stable a group of data is.\n",
        "\n",
        "By looking at these different statistical measures, we can make informed real world decisions"
      ],
      "metadata": {
        "id": "GzOvkvZW2C03"
      },
      "id": "GzOvkvZW2C03"
    },
    {
      "cell_type": "code",
      "execution_count": null,
      "metadata": {
        "id": "Y7-RO2sbBiVI"
      },
      "outputs": [],
      "source": [
        "###########################################################################"
      ],
      "id": "Y7-RO2sbBiVI"
    },
    {
      "cell_type": "markdown",
      "source": [
        "**FEEDBACK**\n",
        "\n",
        "We hope you’ve enjoyed this course so far. We’re committed to help you use \"Stats and maths for data science\" course to its full potential, so that you have a great learning experience. And that’s why we need your help in form of a feedback here.\n",
        "\n",
        "Please fill this feedback form https://forms.zohopublic.in/cloudyml/form/CloudyMLStatisticsFeedbackForm/formperma/WV946wnf0sDM_tOlH87RxZR9yMceKWGrtuPOyXzzCRc"
      ],
      "metadata": {
        "id": "x1f82LD82RXA"
      },
      "id": "x1f82LD82RXA"
    }
  ],
  "metadata": {
    "kernelspec": {
      "display_name": "Python 3",
      "language": "python",
      "name": "python3"
    },
    "language_info": {
      "codemirror_mode": {
        "name": "ipython",
        "version": 3
      },
      "file_extension": ".py",
      "mimetype": "text/x-python",
      "name": "python",
      "nbconvert_exporter": "python",
      "pygments_lexer": "ipython3",
      "version": "3.8.5"
    },
    "colab": {
      "provenance": [],
      "collapsed_sections": [],
      "include_colab_link": true
    }
  },
  "nbformat": 4,
  "nbformat_minor": 5
}